{
 "cells": [
  {
   "cell_type": "code",
   "execution_count": 10,
   "id": "4637ccfd",
   "metadata": {},
   "outputs": [
    {
     "name": "stdout",
     "output_type": "stream",
     "text": [
      "Requirement already satisfied: librosa in /Users/zarinamacbook/anaconda3/lib/python3.10/site-packages (0.10.0.post2)\n",
      "Requirement already satisfied: audioread>=2.1.9 in /Users/zarinamacbook/anaconda3/lib/python3.10/site-packages (from librosa) (3.0.0)\n",
      "Requirement already satisfied: numpy!=1.22.0,!=1.22.1,!=1.22.2,>=1.20.3 in /Users/zarinamacbook/anaconda3/lib/python3.10/site-packages (from librosa) (1.23.5)\n",
      "Requirement already satisfied: scipy>=1.2.0 in /Users/zarinamacbook/anaconda3/lib/python3.10/site-packages (from librosa) (1.10.0)\n",
      "Requirement already satisfied: scikit-learn>=0.20.0 in /Users/zarinamacbook/anaconda3/lib/python3.10/site-packages (from librosa) (1.2.1)\n",
      "Requirement already satisfied: joblib>=0.14 in /Users/zarinamacbook/anaconda3/lib/python3.10/site-packages (from librosa) (1.1.1)\n",
      "Requirement already satisfied: decorator>=4.3.0 in /Users/zarinamacbook/anaconda3/lib/python3.10/site-packages (from librosa) (5.1.1)\n",
      "Requirement already satisfied: numba>=0.51.0 in /Users/zarinamacbook/anaconda3/lib/python3.10/site-packages (from librosa) (0.56.4)\n",
      "Requirement already satisfied: soundfile>=0.12.1 in /Users/zarinamacbook/anaconda3/lib/python3.10/site-packages (from librosa) (0.12.1)\n",
      "Requirement already satisfied: pooch<1.7,>=1.0 in /Users/zarinamacbook/anaconda3/lib/python3.10/site-packages (from librosa) (1.4.0)\n",
      "Requirement already satisfied: soxr>=0.3.2 in /Users/zarinamacbook/anaconda3/lib/python3.10/site-packages (from librosa) (0.3.5)\n",
      "Requirement already satisfied: typing-extensions>=4.1.1 in /Users/zarinamacbook/anaconda3/lib/python3.10/site-packages (from librosa) (4.4.0)\n",
      "Requirement already satisfied: lazy-loader>=0.1 in /Users/zarinamacbook/anaconda3/lib/python3.10/site-packages (from librosa) (0.3)\n",
      "Requirement already satisfied: msgpack>=1.0 in /Users/zarinamacbook/anaconda3/lib/python3.10/site-packages (from librosa) (1.0.3)\n",
      "Requirement already satisfied: llvmlite<0.40,>=0.39.0dev0 in /Users/zarinamacbook/anaconda3/lib/python3.10/site-packages (from numba>=0.51.0->librosa) (0.39.1)\n",
      "Requirement already satisfied: setuptools in /Users/zarinamacbook/anaconda3/lib/python3.10/site-packages (from numba>=0.51.0->librosa) (65.6.3)\n",
      "Requirement already satisfied: requests in /Users/zarinamacbook/anaconda3/lib/python3.10/site-packages (from pooch<1.7,>=1.0->librosa) (2.28.1)\n",
      "Requirement already satisfied: packaging in /Users/zarinamacbook/anaconda3/lib/python3.10/site-packages (from pooch<1.7,>=1.0->librosa) (22.0)\n",
      "Requirement already satisfied: appdirs in /Users/zarinamacbook/anaconda3/lib/python3.10/site-packages (from pooch<1.7,>=1.0->librosa) (1.4.4)\n",
      "Requirement already satisfied: threadpoolctl>=2.0.0 in /Users/zarinamacbook/anaconda3/lib/python3.10/site-packages (from scikit-learn>=0.20.0->librosa) (2.2.0)\n",
      "Requirement already satisfied: cffi>=1.0 in /Users/zarinamacbook/anaconda3/lib/python3.10/site-packages (from soundfile>=0.12.1->librosa) (1.15.1)\n",
      "Requirement already satisfied: pycparser in /Users/zarinamacbook/anaconda3/lib/python3.10/site-packages (from cffi>=1.0->soundfile>=0.12.1->librosa) (2.21)\n",
      "Requirement already satisfied: charset-normalizer<3,>=2 in /Users/zarinamacbook/anaconda3/lib/python3.10/site-packages (from requests->pooch<1.7,>=1.0->librosa) (2.0.4)\n",
      "Requirement already satisfied: idna<4,>=2.5 in /Users/zarinamacbook/anaconda3/lib/python3.10/site-packages (from requests->pooch<1.7,>=1.0->librosa) (3.4)\n",
      "Requirement already satisfied: urllib3<1.27,>=1.21.1 in /Users/zarinamacbook/anaconda3/lib/python3.10/site-packages (from requests->pooch<1.7,>=1.0->librosa) (1.26.14)\n",
      "Requirement already satisfied: certifi>=2017.4.17 in /Users/zarinamacbook/anaconda3/lib/python3.10/site-packages (from requests->pooch<1.7,>=1.0->librosa) (2022.12.7)\n",
      "Requirement already satisfied: soundfile in /Users/zarinamacbook/anaconda3/lib/python3.10/site-packages (0.12.1)\n",
      "Requirement already satisfied: cffi>=1.0 in /Users/zarinamacbook/anaconda3/lib/python3.10/site-packages (from soundfile) (1.15.1)\n",
      "Requirement already satisfied: pycparser in /Users/zarinamacbook/anaconda3/lib/python3.10/site-packages (from cffi>=1.0->soundfile) (2.21)\n"
     ]
    }
   ],
   "source": [
    "!pip install librosa\n",
    "!pip install soundfile"
   ]
  },
  {
   "cell_type": "code",
   "execution_count": 11,
   "id": "a3f42eef",
   "metadata": {},
   "outputs": [
    {
     "name": "stdout",
     "output_type": "stream",
     "text": [
      "Requirement already satisfied: pydub in /Users/zarinamacbook/anaconda3/lib/python3.10/site-packages (0.25.1)\r\n"
     ]
    }
   ],
   "source": [
    "!pip install pydub"
   ]
  },
  {
   "cell_type": "code",
   "execution_count": 93,
   "id": "7af26172",
   "metadata": {},
   "outputs": [
    {
     "name": "stdout",
     "output_type": "stream",
     "text": [
      "Fragment 1 saved as datasetzh/fragment_1.wav\n",
      "Fragment 2 saved as datasetzh/fragment_2.wav\n",
      "Fragment 3 saved as datasetzh/fragment_3.wav\n",
      "Fragment 4 saved as datasetzh/fragment_4.wav\n",
      "Fragment 5 saved as datasetzh/fragment_5.wav\n",
      "Fragment 6 saved as datasetzh/fragment_6.wav\n",
      "Fragment 7 saved as datasetzh/fragment_7.wav\n",
      "Fragment 8 saved as datasetzh/fragment_8.wav\n",
      "Dataset creation complete.\n"
     ]
    }
   ],
   "source": [
    "import os\n",
    "import csv\n",
    "from pydub import AudioSegment\n",
    "from pydub.silence import split_on_silence\n",
    "\n",
    "def split_audio_by_silence(audio_path, min_silence_duration_ms, silence_threshold=-50):\n",
    "    audio = AudioSegment.from_file(audio_path)\n",
    "\n",
    "    # Split the audio file into fragments based on silence\n",
    "    audio_fragments = split_on_silence(audio, min_silence_len=min_silence_duration_ms, silence_thresh=silence_threshold)\n",
    "\n",
    "    return audio_fragments\n",
    "\n",
    "# Define the audio file path and minimum silence duration\n",
    "audio_path = '/Users/zarinamacbook/Desktop/Internship/DataAudio/audios/397_str Zhensk.wav'\n",
    "min_silence_duration_ms = 680 # Minimum silence duration in milliseconds (1 second) 680\n",
    "silence_between_fragments_ms = 1500  # Silence duration between fragments in milliseconds (1 second)1500\n",
    "\n",
    "# Split the audio into fragments\n",
    "fragments = split_audio_by_silence(audio_path, min_silence_duration_ms)\n",
    "\n",
    "# Specify the dataset folder and CSV file path\n",
    "dataset_folder = 'datasetzh'\n",
    "csv_file = 'datasetzh.csv'\n",
    "\n",
    "# Create the dataset folder if it doesn't exist\n",
    "if not os.path.exists(dataset_folder):\n",
    "    os.makedirs(dataset_folder)\n",
    "\n",
    "# Open the CSV file in write mode\n",
    "with open(csv_file, 'w', newline='') as file:\n",
    "    writer = csv.writer(file)\n",
    "    writer.writerow(['Filename', 'Duration'])  # Write header row\n",
    "\n",
    "    # Save the fragments as WAV files and write metadata to the CSV file\n",
    "    for i, fragment in enumerate(fragments):\n",
    "        # Generate a unique filename for the fragment\n",
    "        fragment_filename = f\"fragment_{i+1}.wav\"\n",
    "        fragment_path = os.path.join(dataset_folder, fragment_filename)\n",
    "\n",
    "        # Export the fragment as a WAV file\n",
    "        fragment.export(fragment_path, format=\"wav\")\n",
    "        print(f\"Fragment {i+1} saved as {fragment_path}\")\n",
    "\n",
    "        # Write fragment metadata to the CSV file\n",
    "        duration = len(fragment) / 1000.0  # Duration in seconds\n",
    "        writer.writerow([fragment_filename, duration])\n",
    "\n",
    "print(\"Dataset creation complete.\")"
   ]
  },
  {
   "cell_type": "code",
   "execution_count": null,
   "id": "006966a9",
   "metadata": {},
   "outputs": [],
   "source": []
  },
  {
   "cell_type": "code",
   "execution_count": null,
   "id": "ab79b8fe",
   "metadata": {},
   "outputs": [],
   "source": []
  }
 ],
 "metadata": {
  "kernelspec": {
   "display_name": "Python 3 (ipykernel)",
   "language": "python",
   "name": "python3"
  },
  "language_info": {
   "codemirror_mode": {
    "name": "ipython",
    "version": 3
   },
   "file_extension": ".py",
   "mimetype": "text/x-python",
   "name": "python",
   "nbconvert_exporter": "python",
   "pygments_lexer": "ipython3",
   "version": "3.10.9"
  }
 },
 "nbformat": 4,
 "nbformat_minor": 5
}
